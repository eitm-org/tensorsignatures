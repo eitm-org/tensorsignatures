{
 "cells": [
  {
   "cell_type": "code",
   "execution_count": 12,
   "metadata": {},
   "outputs": [
    {
     "data": {
      "text/html": [
       "\n",
       "        <script>\n",
       "            function code_toggle_6351479489134481351() {\n",
       "                $('div.cell.code_cell.rendered.selected').find('div.input').toggle();\n",
       "            }\n",
       "\n",
       "            \n",
       "        </script>\n",
       "\n",
       "        <a href=\"javascript:code_toggle_6351479489134481351()\">Toggle show/hide</a>\n",
       "    "
      ],
      "text/plain": [
       "<IPython.core.display.HTML object>"
      ]
     },
     "execution_count": 12,
     "metadata": {},
     "output_type": "execute_result"
    }
   ],
   "source": [
    "from IPython.display import HTML, display\n",
    "from helper import hide_toggle\n",
    "import matplotlib.pyplot as plt\n",
    "import numpy as np\n",
    "%matplotlib inline\n",
    "%config InlineBackend.figure_format='retina'\n",
    "\n",
    "from helper import hide_toggle\n",
    "hide_toggle()"
   ]
  },
  {
   "cell_type": "markdown",
   "metadata": {},
   "source": [
    "# Understanding the mutation count tensor\n",
    "\n",
    "Let us start by creating a simulated mutation count tensor to better understand the structure of this data type. The `data` module of tensorsignatures provides a `TensorSignatureData` class which allows us to simulate such data. To do so, we import the package and create a `TensorSignatureData` instance."
   ]
  },
  {
   "cell_type": "code",
   "execution_count": 2,
   "metadata": {},
   "outputs": [],
   "source": [
    "import tensorsignatures as ts\n",
    "data = ts.TensorSignatureData(\n",
    "    seed=573, # set a seed for reproducibility\n",
    "    rank=5, # number of signatures\n",
    "    samples=100, # number of samples\n",
    "    dimensions=[3, 5], # number of arbitrary genomic dimensions\n",
    "    mutations=1000)"
   ]
  },
  {
   "cell_type": "markdown",
   "metadata": {},
   "source": [
    "This command generates data from five signatures (`rank`) to simulate 100 genomes (`samples`) each with 1000 mutations (mutations). By passing the list [3, 5] to the `dimensions` argument, we create two additional genomic dimensions (in addition to the dimensions specifying transcription and replication) with 3 and 5 states respectively. To obtain the SNV count tensor, we invoke the snv method of data, which returns the single base substitution count tensor."
   ]
  },
  {
   "cell_type": "code",
   "execution_count": 3,
   "metadata": {},
   "outputs": [],
   "source": [
    "snv = data.snv()"
   ]
  },
  {
   "cell_type": "markdown",
   "metadata": {},
   "source": [
    "Similarly, we can extract a simulated matrix of other mutation counts by invoking the `other` method."
   ]
  },
  {
   "cell_type": "code",
   "execution_count": 4,
   "metadata": {},
   "outputs": [],
   "source": [
    "other = data.other()"
   ]
  },
  {
   "cell_type": "markdown",
   "metadata": {},
   "source": [
    "## The mutation count tensor is a multidimensional array with a specific structure"
   ]
  },
  {
   "cell_type": "markdown",
   "metadata": {},
   "source": [
    "The `snv` object is simply a 6-dimensional `numpy` array,"
   ]
  },
  {
   "cell_type": "code",
   "execution_count": 5,
   "metadata": {},
   "outputs": [
    {
     "data": {
      "text/plain": [
       "6"
      ]
     },
     "execution_count": 5,
     "metadata": {},
     "output_type": "execute_result"
    }
   ],
   "source": [
    "snv.ndim"
   ]
  },
  {
   "cell_type": "markdown",
   "metadata": {},
   "source": [
    "whose `shape` attribute is a tuple of integers indicating the size, i.e. the number of states,\n",
    "of the array in each dimension."
   ]
  },
  {
   "cell_type": "code",
   "execution_count": 6,
   "metadata": {},
   "outputs": [
    {
     "data": {
      "text/plain": [
       "(3, 3, 3, 5, 96, 100)"
      ]
     },
     "execution_count": 6,
     "metadata": {},
     "output_type": "execute_result"
    }
   ],
   "source": [
    "snv.shape"
   ]
  },
  {
   "cell_type": "markdown",
   "metadata": {},
   "source": [
    "TensorSignatures expects the structure of the count tensor to follow a specific convention: the first and second dimension (`snv.shape[0]` and `snv.shape[1]`) split counts by tran- scription and replication strand, following dimensions partition single base substitution by ge- nomic factors, and the penultimate (`snv.shape[-2]`) and last dimension (`snv.shape[-1]`) represent substitution types and samples respectively. Table A.1 summarises the structure of the count tensor."
   ]
  },
  {
   "cell_type": "markdown",
   "metadata": {},
   "source": [
    "## Extracting the single base substutions from specific genomic states\n",
    "\n",
    "We index the SNV tensor like any other numpy array. For example, to obtain variants from template and leading strands, and from the “unassigned” state of additional genomic dimensions, we simply index the tensor with `snv[0, 1, 0, 0, :, :]` which returns a two dimensional array with mutation types along the first axis and samples along the other."
   ]
  },
  {
   "cell_type": "code",
   "execution_count": 7,
   "metadata": {},
   "outputs": [
    {
     "data": {
      "text/plain": [
       "(96, 100)"
      ]
     },
     "execution_count": 7,
     "metadata": {},
     "output_type": "execute_result"
    }
   ],
   "source": [
    "slice = snv[0, 1, 0, 0, :, :]\n",
    "slice.shape"
   ]
  },
  {
   "cell_type": "markdown",
   "metadata": {},
   "source": [
    "Note, that we can reconstruct the $p \\times n$ mutation count matrix, which usually serves as an input for conventional mutational signature analysis, by summing over all dimensions except the last two (representing single base substitution types and samples respectively). The following code illustrates this operation."
   ]
  },
  {
   "cell_type": "code",
   "execution_count": 8,
   "metadata": {},
   "outputs": [
    {
     "data": {
      "text/plain": [
       "(96, 100)"
      ]
     },
     "execution_count": 8,
     "metadata": {},
     "output_type": "execute_result"
    }
   ],
   "source": [
    "collapsed = snv.sum(axis=(0,1,2,3,))\n",
    "collapsed.shape"
   ]
  },
  {
   "cell_type": "markdown",
   "metadata": {},
   "source": [
    "Another useful technique is to first index a specific state, and then to sum over all other dimensions to exclude. This allows us to extract the spectra from specific genomic states, for example, to extract all coding and template strand mutations from the tensor we would simply run"
   ]
  },
  {
   "cell_type": "code",
   "execution_count": 9,
   "metadata": {},
   "outputs": [],
   "source": [
    "coding = snv[0].sum(axis=(0,1,2,4))\n",
    "template = snv[1].sum(axis=(0,1,2,4))"
   ]
  },
  {
   "cell_type": "markdown",
   "metadata": {},
   "source": [
    "of course this also works for any other dimension, for example, leading and lagging strand mutations maybe extracted as follows."
   ]
  },
  {
   "cell_type": "code",
   "execution_count": 10,
   "metadata": {},
   "outputs": [],
   "source": [
    "leading = snv[:,0].sum(axis=(0,1,2,4))\n",
    "lagging = snv[:,1].sum(axis=(0,1,2,4))"
   ]
  },
  {
   "cell_type": "markdown",
   "metadata": {},
   "source": [
    "To understand how they differ we may plot them,"
   ]
  },
  {
   "cell_type": "code",
   "execution_count": 13,
   "metadata": {},
   "outputs": [
    {
     "data": {
      "image/png": "[encoded data removed]",
      "text/plain": [
       "<Figure size 432x288 with 4 Axes>"
      ]
     },
     "metadata": {
      "image/png": {
       "height": 279,
       "width": 427
      },
      "needs_background": "light"
     },
     "output_type": "display_data"
    }
   ],
   "source": [
    "fig, axes = plt.subplots(2, 2, sharey=True)\n",
    "axes[0, 0].bar(np.arange(96), coding, color=ts.DARK_PALETTE)\n",
    "axes[0, 0].set_title(\"Pooled coding strand mutations\")\n",
    "axes[0, 1].bar(np.arange(96), template, color=ts.DARK_PALETTE)\n",
    "axes[0, 1].set_title(\"Pooled template strand mutations\")\n",
    "axes[1, 0].bar(np.arange(96), leading, color=ts.DARK_PALETTE)\n",
    "axes[1, 0].set_title(\"Pooled leading strand mutations\")\n",
    "axes[1, 1].bar(np.arange(96), lagging, color=ts.DARK_PALETTE)\n",
    "axes[1, 1].set_title(\"Pooled lagging strand mutations\")\n",
    "plt.tight_layout()"
   ]
  },
  {
   "cell_type": "markdown",
   "metadata": {},
   "source": [
    "which reveals that some variant types, e.g. C>A (blue), C>T (red) and T>A (grey), seem to occur with different frequencies across transcription and replication states."
   ]
  },
  {
   "cell_type": "markdown",
   "metadata": {},
   "source": [
    "By indexing the SNV tensor appropriately, we can also recover mutational spectra from different state combinations, eg. `snv[0,:,2].sum(axis=(0,1))` would return a $p \\times n$ matrix representing the coding strand mutations in state 2 of the first additional genomic dimension.\n"
   ]
  }
 ],
 "metadata": {
  "kernelspec": {
   "display_name": "Python 3",
   "language": "python",
   "name": "python3"
  },
  "language_info": {
   "codemirror_mode": {
    "name": "ipython",
    "version": 3
   },
   "file_extension": ".py",
   "mimetype": "text/x-python",
   "name": "python",
   "nbconvert_exporter": "python",
   "pygments_lexer": "ipython3",
   "version": "3.7.2"
  }
 },
 "nbformat": 4,
 "nbformat_minor": 4
}
